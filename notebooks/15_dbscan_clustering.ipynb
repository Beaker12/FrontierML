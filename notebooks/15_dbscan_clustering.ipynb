{
 "cells": [
  {
   "cell_type": "markdown",
   "id": "caf9f5c9",
   "metadata": {},
   "source": [
    "# Chapter 15: DBSCAN Clustering\n",
    "\n",
    "## Learning Objectives\n",
    "\n",
    "In this chapter, you will learn:\n",
    "- **Mathematical foundations** of density-based clustering\n",
    "- **Core points, border points, and noise** identification\n",
    "- **Parameter selection** for epsilon and minimum points\n",
    "- **Implementation** from scratch using NumPy\n",
    "- **Comparison** with K-means and hierarchical clustering\n",
    "\n",
    "## Introduction\n",
    "\n",
    "DBSCAN (Density-Based Spatial Clustering of Applications with Noise) groups together points that are closely packed while marking points in low-density regions as outliers.\n",
    "\n",
    "**Mathematical Foundation**: DBSCAN defines clusters as dense regions separated by regions of lower density, using neighborhood density to determine cluster membership.\n",
    "\n",
    "## Mathematical Theory\n",
    "\n",
    "### Core Concepts\n",
    "\n",
    "Key definitions:\n",
    "\n",
    "- **$\\epsilon$-neighborhood**: $N_\\epsilon(p) = \\{q \\in D | \\text{dist}(p,q) \\leq \\epsilon\\}$\n",
    "- **Core point**: A point $p$ is core if $|N_\\epsilon(p)| \\geq \\text{MinPts}$\n",
    "- **Directly density-reachable**: Point $q$ is directly density-reachable from $p$ if:\n",
    "  - $q \\in N_\\epsilon(p)$\n",
    "  - $p$ is a core point\n",
    "\n",
    "### Cluster Formation\n",
    "\n",
    "A cluster is a maximal set of density-connected points, where two points are density-connected if there exists a chain of directly density-reachable points between them.\n",
    "\n",
    "**Citation**: Density-based clustering algorithms and their theoretical properties are described in clustering literature."
   ]
  }
 ],
 "metadata": {
  "language_info": {
   "name": "python"
  }
 },
 "nbformat": 4,
 "nbformat_minor": 5
}
