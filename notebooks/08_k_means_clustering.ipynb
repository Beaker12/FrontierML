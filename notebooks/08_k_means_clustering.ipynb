{
 "cells": [
  {
   "cell_type": "markdown",
   "id": "06a38a43",
   "metadata": {},
   "source": [
    "# Chapter 8: K-Means Clustering\n",
    "\n",
    "## Learning Objectives\n",
    "\n",
    "In this chapter, you will learn:\n",
    "- **Mathematical foundations** of K-means clustering algorithm\n",
    "- **Implementation** from scratch using NumPy\n",
    "- **Scikit-learn** implementation for comparison\n",
    "- **Cluster evaluation** metrics and validation techniques\n",
    "- **Practical applications** in data segmentation and pattern discovery\n",
    "\n",
    "## Introduction\n",
    "\n",
    "K-means clustering is one of the most popular unsupervised learning algorithms for partitioning data into k clusters. It aims to minimize within-cluster sum of squares and is widely used for market segmentation, image processing, and data exploration.\n",
    "\n",
    "**Mathematical Foundation**: K-means minimizes the within-cluster sum of squares using Lloyd's algorithm, with theoretical foundations in vector quantization and expectation-maximization.\n",
    "\n",
    "## Mathematical Theory\n",
    "\n",
    "### The K-Means Objective\n",
    "\n",
    "The algorithm minimizes the objective function:\n",
    "\n",
    "$$J = \\sum_{i=1}^{k} \\sum_{x \\in C_i} ||x - \\mu_i||^2$$\n",
    "\n",
    "Where:\n",
    "- $k$ is the number of clusters\n",
    "- $C_i$ is the $i$-th cluster\n",
    "- $\\mu_i$ is the centroid of cluster $C_i$\n",
    "- $||x - \\mu_i||^2$ is the squared Euclidean distance\n",
    "\n",
    "**Citation**: The mathematical foundations and convergence properties are detailed in standard machine learning textbooks."
   ]
  }
 ],
 "metadata": {
  "language_info": {
   "name": "python"
  }
 },
 "nbformat": 4,
 "nbformat_minor": 5
}
