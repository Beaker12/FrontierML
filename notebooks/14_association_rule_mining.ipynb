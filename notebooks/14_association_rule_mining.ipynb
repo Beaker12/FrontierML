{
 "cells": [
  {
   "cell_type": "markdown",
   "id": "1eb043cd",
   "metadata": {},
   "source": [
    "# Chapter 14: Association Rule Mining\n",
    "\n",
    "## Learning Objectives\n",
    "\n",
    "In this chapter, you will learn:\n",
    "- **Mathematical foundations** of association rules and frequent itemsets\n",
    "- **Apriori and FP-Growth** algorithms for rule discovery\n",
    "- **Support, confidence, and lift** metrics evaluation\n",
    "- **Market basket analysis** and recommendation systems\n",
    "- **Implementation** from scratch and with specialized libraries\n",
    "\n",
    "## Introduction\n",
    "\n",
    "Association Rule Mining discovers relationships between variables in large databases, identifying frequent patterns and rules that describe how items occur together.\n",
    "\n",
    "**Mathematical Foundation**: Association rules are based on statistical measures of co-occurrence, using support and confidence metrics to quantify rule strength.\n",
    "\n",
    "## Mathematical Theory\n",
    "\n",
    "### Key Metrics\n",
    "\n",
    "For a rule $A \\Rightarrow B$:\n",
    "\n",
    "- **Support**: $\\text{supp}(A \\Rightarrow B) = \\frac{|A \\cup B|}{|D|}$\n",
    "- **Confidence**: $\\text{conf}(A \\Rightarrow B) = \\frac{|A \\cup B|}{|A|}$\n",
    "- **Lift**: $\\text{lift}(A \\Rightarrow B) = \\frac{\\text{supp}(A \\cup B)}{\\text{supp}(A) \\times \\text{supp}(B)}$\n",
    "\n",
    "Where:\n",
    "- $|D|$ is the total number of transactions\n",
    "- $|A|$ is the number of transactions containing itemset $A$\n",
    "- $|A \\cup B|$ is the number of transactions containing both $A$ and $B$\n",
    "\n",
    "**Citation**: Association rule mining algorithms and applications are covered in data mining textbooks."
   ]
  }
 ],
 "metadata": {
  "language_info": {
   "name": "python"
  }
 },
 "nbformat": 4,
 "nbformat_minor": 5
}
